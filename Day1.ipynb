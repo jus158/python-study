{
 "cells": [
  {
   "cell_type": "markdown",
   "id": "47d70863",
   "metadata": {},
   "source": [
    "!python --version"
   ]
  },
  {
   "cell_type": "markdown",
   "id": "d274f4a4",
   "metadata": {},
   "source": [
    "in[]부분 누른후 m 눌러서 주석추가"
   ]
  },
  {
   "cell_type": "markdown",
   "id": "88946145",
   "metadata": {},
   "source": [
    "#파이썬 버전확인하기\n",
    "!python --version"
   ]
  },
  {
   "cell_type": "markdown",
   "id": "59eca9e9",
   "metadata": {},
   "source": [
    "줄바꿈할떄는 스페이스바를 2번 누를 것 또는 br태그쓸것\n",
    "<br>\n",
    "플러스나 마이너스누르고 띄우고 입력하면 아래처럼 목록만들수있음\n",
    "<br>\n",
    "+ 테스트\n",
    "- 테스트\n",
    "    + 테스트\n",
    "    <br>\n",
    "탭을 눌러서 위 처럼 하위목록만들수있음"
   ]
  },
  {
   "cell_type": "markdown",
   "id": "07a48ed8",
   "metadata": {},
   "source": [
    "import sys"
   ]
  },
  {
   "cell_type": "code",
   "execution_count": null,
   "id": "3ee1e06e",
   "metadata": {},
   "outputs": [],
   "source": [
    "print(sys.version)"
   ]
  },
  {
   "cell_type": "code",
   "execution_count": null,
   "id": "2a20707d",
   "metadata": {},
   "outputs": [],
   "source": [
    "%%writefile helloworld.py\n",
    "\n",
    "print(\"Hello World!\")"
   ]
  },
  {
   "cell_type": "code",
   "execution_count": null,
   "id": "0bcf178c",
   "metadata": {},
   "outputs": [],
   "source": [
    "import helloworld"
   ]
  },
  {
   "cell_type": "code",
   "execution_count": null,
   "id": "8eed9fca",
   "metadata": {},
   "outputs": [],
   "source": [
    "%ls"
   ]
  },
  {
   "cell_type": "code",
   "execution_count": null,
   "id": "eb4f3d5c",
   "metadata": {},
   "outputs": [],
   "source": [
    "!ls"
   ]
  },
  {
   "cell_type": "code",
   "execution_count": null,
   "id": "65958fb8",
   "metadata": {},
   "outputs": [],
   "source": [
    "!python helloworld.py"
   ]
  },
  {
   "cell_type": "code",
   "execution_count": null,
   "id": "2bff18b3",
   "metadata": {},
   "outputs": [],
   "source": [
    "%run helloworld.py"
   ]
  },
  {
   "cell_type": "code",
   "execution_count": null,
   "id": "1a6fbd76",
   "metadata": {},
   "outputs": [],
   "source": [
    "import keyword"
   ]
  },
  {
   "cell_type": "code",
   "execution_count": null,
   "id": "1ce092f1",
   "metadata": {},
   "outputs": [],
   "source": [
    "##예약어 - > 이미 있는 명령어 아래쪽의 명령어로 확인가능"
   ]
  },
  {
   "cell_type": "markdown",
   "id": "1a444c6a",
   "metadata": {},
   "source": [
    "dir(keyword)"
   ]
  },
  {
   "cell_type": "code",
   "execution_count": null,
   "id": "c0e6f786",
   "metadata": {},
   "outputs": [],
   "source": [
    "print(keyword.kwlist)"
   ]
  },
  {
   "cell_type": "code",
   "execution_count": null,
   "id": "9e9e79d9",
   "metadata": {},
   "outputs": [],
   "source": [
    "len(keyword.kwlist)"
   ]
  },
  {
   "cell_type": "markdown",
   "id": "389c86b4",
   "metadata": {},
   "source": [
    "예약어를 쓸꺼면 아래처럼 밑줄넣기를 권고"
   ]
  },
  {
   "cell_type": "code",
   "execution_count": null,
   "id": "02fac392",
   "metadata": {},
   "outputs": [],
   "source": [
    "if_ = 100"
   ]
  },
  {
   "cell_type": "code",
   "execution_count": null,
   "id": "b4004d04",
   "metadata": {},
   "outputs": [],
   "source": [
    "if_"
   ]
  },
  {
   "cell_type": "markdown",
   "id": "1f020088",
   "metadata": {},
   "source": [
    "타입을 확인하는 명령어<br>\n",
    "#### type\n",
    "- 객체"
   ]
  },
  {
   "cell_type": "code",
   "execution_count": null,
   "id": "872c5266",
   "metadata": {},
   "outputs": [],
   "source": [
    "type(100)"
   ]
  },
  {
   "cell_type": "markdown",
   "id": "95e785b2",
   "metadata": {},
   "source": [
    "해당명령어로 본인이 생각한 타입인지 알수있다"
   ]
  },
  {
   "cell_type": "code",
   "execution_count": null,
   "id": "da07990e",
   "metadata": {},
   "outputs": [],
   "source": [
    "isinstance(100,int)"
   ]
  },
  {
   "cell_type": "code",
   "execution_count": null,
   "id": "9e99c388",
   "metadata": {},
   "outputs": [],
   "source": [
    "a =  100"
   ]
  },
  {
   "cell_type": "code",
   "execution_count": null,
   "id": "8fac25d1",
   "metadata": {
    "scrolled": true
   },
   "outputs": [],
   "source": [
    "a"
   ]
  },
  {
   "cell_type": "code",
   "execution_count": null,
   "id": "1c9e6344",
   "metadata": {},
   "outputs": [],
   "source": [
    "a = \"200\""
   ]
  },
  {
   "cell_type": "code",
   "execution_count": null,
   "id": "630a191e",
   "metadata": {},
   "outputs": [],
   "source": [
    "type(a)"
   ]
  },
  {
   "cell_type": "code",
   "execution_count": null,
   "id": "1677ea85",
   "metadata": {},
   "outputs": [],
   "source": [
    "for b in a:\n",
    "    print(b)"
   ]
  },
  {
   "cell_type": "markdown",
   "id": "0288e93f",
   "metadata": {},
   "source": [
    "한 줄에 여러개의 변수를 지정할려면 세미콜론찍고 쭉 적으면 됨"
   ]
  },
  {
   "cell_type": "code",
   "execution_count": null,
   "id": "341c3df5",
   "metadata": {},
   "outputs": [],
   "source": [
    "a = 100; b = 200; c = a+b"
   ]
  },
  {
   "cell_type": "code",
   "execution_count": null,
   "id": "351811bf",
   "metadata": {},
   "outputs": [],
   "source": [
    "a,b,c"
   ]
  },
  {
   "cell_type": "markdown",
   "id": "14302667",
   "metadata": {},
   "source": [
    "위 a는 사실 주소만 참고중이다 <br>\n",
    "&a 하면 100의 주소값을 출력 <br>\n",
    "*a 하면 실제 값인 100을 직접참조 "
   ]
  },
  {
   "cell_type": "code",
   "execution_count": null,
   "id": "2c7b33db",
   "metadata": {},
   "outputs": [],
   "source": [
    "globals()"
   ]
  },
  {
   "cell_type": "code",
   "execution_count": null,
   "id": "92c29498",
   "metadata": {},
   "outputs": [],
   "source": [
    "locals()"
   ]
  },
  {
   "cell_type": "code",
   "execution_count": null,
   "id": "bfc28b17",
   "metadata": {},
   "outputs": [],
   "source": []
  },
  {
   "cell_type": "code",
   "execution_count": null,
   "id": "ba677ab2",
   "metadata": {},
   "outputs": [],
   "source": [
    "a = {\n",
    "    'a' : 100,\n",
    "    'b' : \"200\"\n",
    "}"
   ]
  },
  {
   "cell_type": "code",
   "execution_count": null,
   "id": "f49808b2",
   "metadata": {},
   "outputs": [],
   "source": [
    "def test():\n",
    "    global c\n",
    "    c = 100\n",
    "    d = 200"
   ]
  },
  {
   "cell_type": "code",
   "execution_count": null,
   "id": "c2fa84ff",
   "metadata": {},
   "outputs": [],
   "source": [
    "test()"
   ]
  },
  {
   "cell_type": "code",
   "execution_count": null,
   "id": "d4810f4e",
   "metadata": {},
   "outputs": [],
   "source": [
    "def test2():\n",
    "    print(locals())\n",
    "    print(c)"
   ]
  },
  {
   "cell_type": "code",
   "execution_count": null,
   "id": "a7ac5254",
   "metadata": {},
   "outputs": [],
   "source": [
    "test2()"
   ]
  },
  {
   "cell_type": "code",
   "execution_count": null,
   "id": "4e40d630",
   "metadata": {},
   "outputs": [],
   "source": [
    "globals()['test']"
   ]
  },
  {
   "cell_type": "markdown",
   "id": "9bb79691",
   "metadata": {},
   "source": [
    "객체 -> object <br>\n",
    "클레스에 할당된 객체 -> 인스턴스 <br>"
   ]
  },
  {
   "cell_type": "markdown",
   "id": "b7b1f64e",
   "metadata": {},
   "source": [
    "클래스 <br>\n",
    "class personn : <br>\n",
    "    height<br>\n",
    "    weight   -> 속성<br> \n",
    "    age<br>\n",
    "    \n",
    "    \"def say_korea\"  -> 행위"
   ]
  },
  {
   "cell_type": "markdown",
   "id": "c318b475",
   "metadata": {},
   "source": [
    "Class"
   ]
  },
  {
   "cell_type": "code",
   "execution_count": null,
   "id": "08a06fab",
   "metadata": {},
   "outputs": [],
   "source": [
    "class Person: \n",
    "    def __init__(self,height,weight,age,name):\n",
    "        self.height:int = height\n",
    "        self.weight = weight\n",
    "        self.age = age\n",
    "        self.name = name\n",
    "        \n",
    "    def say_korean(self):\n",
    "        print(\"한국어할수있습니다\")"
   ]
  },
  {
   "cell_type": "code",
   "execution_count": null,
   "id": "0d0f1eff",
   "metadata": {},
   "outputs": [],
   "source": [
    "JUN = Person(171,90,27,'전남준')"
   ]
  },
  {
   "cell_type": "code",
   "execution_count": null,
   "id": "e3590a39",
   "metadata": {},
   "outputs": [],
   "source": [
    "JUN"
   ]
  },
  {
   "cell_type": "code",
   "execution_count": null,
   "id": "c6795fc5",
   "metadata": {},
   "outputs": [],
   "source": [
    "print(dir(JUN))"
   ]
  },
  {
   "cell_type": "code",
   "execution_count": null,
   "id": "7405aff3",
   "metadata": {},
   "outputs": [],
   "source": [
    "JUN.age"
   ]
  },
  {
   "cell_type": "code",
   "execution_count": null,
   "id": "765cb4d5",
   "metadata": {},
   "outputs": [],
   "source": [
    "JUN.name"
   ]
  },
  {
   "cell_type": "code",
   "execution_count": null,
   "id": "c7a6d4bb",
   "metadata": {},
   "outputs": [],
   "source": [
    "JUN.say_korean()"
   ]
  },
  {
   "cell_type": "markdown",
   "id": "dcf3140d",
   "metadata": {},
   "source": [
    "<h1>내장 자료형</h1>\n",
    "\n",
    "buitin data type <br>\n",
    "- 파이썬 내부적으로 가지는 자료형은 숫자,문자열,리스트,튜플,딕셔너리,집합 등"
   ]
  },
  {
   "cell_type": "code",
   "execution_count": null,
   "id": "ac79fcd7",
   "metadata": {},
   "outputs": [],
   "source": [
    "a = []"
   ]
  },
  {
   "cell_type": "code",
   "execution_count": null,
   "id": "983fd620",
   "metadata": {},
   "outputs": [],
   "source": [
    "print(a)"
   ]
  },
  {
   "cell_type": "code",
   "execution_count": null,
   "id": "1c19f94f",
   "metadata": {},
   "outputs": [],
   "source": [
    "print(dir(a))"
   ]
  },
  {
   "cell_type": "code",
   "execution_count": null,
   "id": "d0fd45a6",
   "metadata": {},
   "outputs": [],
   "source": [
    "a.append"
   ]
  },
  {
   "cell_type": "code",
   "execution_count": null,
   "id": "0fe90904",
   "metadata": {},
   "outputs": [],
   "source": [
    "__builtins__"
   ]
  },
  {
   "cell_type": "code",
   "execution_count": null,
   "id": "9b8af57e",
   "metadata": {},
   "outputs": [],
   "source": [
    "__builtins__.__dict__['int']"
   ]
  },
  {
   "cell_type": "code",
   "execution_count": null,
   "id": "32b2ac1e",
   "metadata": {},
   "outputs": [],
   "source": [
    "print(dir(100))"
   ]
  },
  {
   "cell_type": "code",
   "execution_count": null,
   "id": "70e9c1c7",
   "metadata": {},
   "outputs": [],
   "source": [
    "(100).__class__"
   ]
  },
  {
   "cell_type": "code",
   "execution_count": null,
   "id": "e1184151",
   "metadata": {},
   "outputs": [],
   "source": [
    "print(dir(100))"
   ]
  },
  {
   "cell_type": "code",
   "execution_count": null,
   "id": "6f8b35ea",
   "metadata": {},
   "outputs": [],
   "source": [
    "print(dir(int))"
   ]
  },
  {
   "cell_type": "markdown",
   "id": "6bd641ce",
   "metadata": {},
   "source": [
    "리터널표기법"
   ]
  },
  {
   "cell_type": "code",
   "execution_count": null,
   "id": "f676abab",
   "metadata": {},
   "outputs": [],
   "source": [
    "100"
   ]
  },
  {
   "cell_type": "code",
   "execution_count": null,
   "id": "30f24054",
   "metadata": {},
   "outputs": [],
   "source": [
    "100.0"
   ]
  },
  {
   "cell_type": "markdown",
   "id": "23f2b44d",
   "metadata": {},
   "source": [
    "생성자 표기법"
   ]
  },
  {
   "cell_type": "code",
   "execution_count": null,
   "id": "77337028",
   "metadata": {},
   "outputs": [],
   "source": [
    "a = int(100)"
   ]
  },
  {
   "cell_type": "code",
   "execution_count": null,
   "id": "5232f9e1",
   "metadata": {},
   "outputs": [],
   "source": [
    "a"
   ]
  },
  {
   "cell_type": "code",
   "execution_count": null,
   "id": "d58dbad2",
   "metadata": {},
   "outputs": [],
   "source": [
    "(100).__class__"
   ]
  },
  {
   "cell_type": "code",
   "execution_count": null,
   "id": "09338166",
   "metadata": {},
   "outputs": [],
   "source": [
    "(100.0).__class__"
   ]
  },
  {
   "cell_type": "code",
   "execution_count": null,
   "id": "40484bb1",
   "metadata": {},
   "outputs": [],
   "source": [
    "(100.1+1j).__class__"
   ]
  },
  {
   "cell_type": "code",
   "execution_count": null,
   "id": "02a1eee3",
   "metadata": {},
   "outputs": [],
   "source": [
    "a = int(100)"
   ]
  },
  {
   "cell_type": "code",
   "execution_count": null,
   "id": "97cc3dda",
   "metadata": {},
   "outputs": [],
   "source": [
    "a"
   ]
  },
  {
   "cell_type": "code",
   "execution_count": null,
   "id": "4e7eb63e",
   "metadata": {},
   "outputs": [],
   "source": [
    "100 + 100.0"
   ]
  },
  {
   "cell_type": "code",
   "execution_count": null,
   "id": "bcebb0ed",
   "metadata": {},
   "outputs": [],
   "source": [
    "from datetime import datetime\n",
    "import pytz"
   ]
  },
  {
   "cell_type": "code",
   "execution_count": null,
   "id": "23c41402",
   "metadata": {},
   "outputs": [],
   "source": [
    "a = '100'"
   ]
  },
  {
   "cell_type": "code",
   "execution_count": null,
   "id": "e7f6697d",
   "metadata": {},
   "outputs": [],
   "source": [
    "b = int(a)"
   ]
  },
  {
   "cell_type": "code",
   "execution_count": null,
   "id": "5c1af469",
   "metadata": {},
   "outputs": [],
   "source": [
    "b"
   ]
  },
  {
   "cell_type": "code",
   "execution_count": null,
   "id": "389368e6",
   "metadata": {},
   "outputs": [],
   "source": [
    "a"
   ]
  },
  {
   "cell_type": "code",
   "execution_count": null,
   "id": "d33b17cd",
   "metadata": {},
   "outputs": [],
   "source": [
    "a + 100"
   ]
  },
  {
   "cell_type": "code",
   "execution_count": null,
   "id": "bd7ea28c",
   "metadata": {},
   "outputs": [],
   "source": [
    "b + 100"
   ]
  },
  {
   "cell_type": "code",
   "execution_count": null,
   "id": "68842ade",
   "metadata": {},
   "outputs": [],
   "source": [
    "int(100.1)"
   ]
  },
  {
   "cell_type": "code",
   "execution_count": null,
   "id": "341a9f92",
   "metadata": {},
   "outputs": [],
   "source": [
    "import math"
   ]
  },
  {
   "cell_type": "code",
   "execution_count": null,
   "id": "e8194c67",
   "metadata": {},
   "outputs": [],
   "source": [
    "print(dir(math))"
   ]
  },
  {
   "cell_type": "code",
   "execution_count": null,
   "id": "2ceb3904",
   "metadata": {},
   "outputs": [],
   "source": [
    "math.floor(100.9)"
   ]
  },
  {
   "cell_type": "code",
   "execution_count": null,
   "id": "0b6d5dff",
   "metadata": {},
   "outputs": [],
   "source": [
    "math.ceil(100.1)"
   ]
  },
  {
   "cell_type": "code",
   "execution_count": null,
   "id": "666b612e",
   "metadata": {},
   "outputs": [],
   "source": [
    "round(100.4)"
   ]
  },
  {
   "cell_type": "code",
   "execution_count": null,
   "id": "6d67cdb1",
   "metadata": {},
   "outputs": [],
   "source": [
    "round(100.5)"
   ]
  },
  {
   "cell_type": "code",
   "execution_count": null,
   "id": "761014c2",
   "metadata": {},
   "outputs": [],
   "source": [
    "round(100.6)"
   ]
  },
  {
   "cell_type": "markdown",
   "id": "3df97fe8",
   "metadata": {},
   "source": [
    "<h1>시퀀스 자료형</h1>"
   ]
  },
  {
   "cell_type": "code",
   "execution_count": null,
   "id": "5bef385a",
   "metadata": {},
   "outputs": [],
   "source": [
    "import collections as cols"
   ]
  },
  {
   "cell_type": "code",
   "execution_count": null,
   "id": "babfc30c",
   "metadata": {},
   "outputs": [],
   "source": [
    "cols"
   ]
  },
  {
   "cell_type": "code",
   "execution_count": null,
   "id": "d97108d5",
   "metadata": {},
   "outputs": [],
   "source": [
    "print(dir(cols))"
   ]
  },
  {
   "cell_type": "code",
   "execution_count": null,
   "id": "55e427d2",
   "metadata": {},
   "outputs": [],
   "source": [
    "issubclass(str,cols.abc.Sequence)"
   ]
  },
  {
   "cell_type": "code",
   "execution_count": null,
   "id": "be21299f",
   "metadata": {},
   "outputs": [],
   "source": [
    "issubclass(list,cols.abc.Sequence)"
   ]
  },
  {
   "cell_type": "code",
   "execution_count": null,
   "id": "1ed2e56a",
   "metadata": {},
   "outputs": [],
   "source": [
    "a = [1,2,3]"
   ]
  },
  {
   "cell_type": "code",
   "execution_count": null,
   "id": "e5c82725",
   "metadata": {},
   "outputs": [],
   "source": [
    "a"
   ]
  },
  {
   "cell_type": "code",
   "execution_count": null,
   "id": "14139925",
   "metadata": {},
   "outputs": [],
   "source": [
    "b = cols.UserList([1,2,3])"
   ]
  },
  {
   "cell_type": "code",
   "execution_count": null,
   "id": "406cda6a",
   "metadata": {},
   "outputs": [],
   "source": [
    "b"
   ]
  },
  {
   "cell_type": "code",
   "execution_count": null,
   "id": "d8214f57",
   "metadata": {},
   "outputs": [],
   "source": [
    "\"문자열\""
   ]
  },
  {
   "cell_type": "code",
   "execution_count": null,
   "id": "b51f3857",
   "metadata": {},
   "outputs": [],
   "source": [
    "str('문자열')"
   ]
  },
  {
   "cell_type": "markdown",
   "id": "b0a7d438",
   "metadata": {},
   "source": [
    "아스키코드로 값 얻기\n"
   ]
  },
  {
   "cell_type": "code",
   "execution_count": null,
   "id": "40c2aaa7",
   "metadata": {},
   "outputs": [],
   "source": [
    "ord('a')"
   ]
  },
  {
   "cell_type": "code",
   "execution_count": null,
   "id": "c67d3aa4",
   "metadata": {},
   "outputs": [],
   "source": [
    "a = input('입력해주세요 : ')"
   ]
  },
  {
   "cell_type": "code",
   "execution_count": null,
   "id": "66f81691",
   "metadata": {},
   "outputs": [],
   "source": [
    "a"
   ]
  },
  {
   "cell_type": "code",
   "execution_count": null,
   "id": "541d6475",
   "metadata": {},
   "outputs": [],
   "source": [
    "a = int(input('첫반쪠 수를 입력해주세요 : '))\n",
    "b = int(input('두번쨰 수를 입력해주세요 : '))\n",
    "print(\"결과 : \" + str(a*b))\n",
    "print(f\"결과 : {(a*b)}\")"
   ]
  },
  {
   "cell_type": "code",
   "execution_count": null,
   "id": "de9dce3b",
   "metadata": {},
   "outputs": [],
   "source": [
    "help(input)"
   ]
  },
  {
   "cell_type": "code",
   "execution_count": null,
   "id": "ff3560f4",
   "metadata": {},
   "outputs": [],
   "source": [
    "import requests"
   ]
  },
  {
   "cell_type": "code",
   "execution_count": null,
   "id": "2eb831a3",
   "metadata": {},
   "outputs": [],
   "source": [
    "help(requests)"
   ]
  },
  {
   "cell_type": "markdown",
   "id": "fd621fd8",
   "metadata": {},
   "source": [
    "<h1>1.순환문</h1>\n",
    "특정한 행위를 여러 번 수행하는 문장.<br>\n",
    "<h2>for와 while</h2><br>\n",
    "<h3>for문<h3>\n",
    "    <br>\n",
    "- 반복되는 클레스의 객체를 가져와서 그 내부에 원소를 읽음"
   ]
  },
  {
   "cell_type": "code",
   "execution_count": null,
   "id": "4273c33e",
   "metadata": {},
   "outputs": [],
   "source": [
    "range(0,10)"
   ]
  },
  {
   "cell_type": "code",
   "execution_count": null,
   "id": "923ed392",
   "metadata": {},
   "outputs": [],
   "source": [
    "for data in range(0,10):\n",
    "    print(data)"
   ]
  },
  {
   "cell_type": "markdown",
   "id": "36d98f04",
   "metadata": {},
   "source": [
    "#### range\n",
    "- 범위 : 첫 인덱스 ~ 마지막 인덱스 -1"
   ]
  },
  {
   "cell_type": "code",
   "execution_count": null,
   "id": "37b35147",
   "metadata": {},
   "outputs": [],
   "source": [
    "a = range(10)"
   ]
  },
  {
   "cell_type": "code",
   "execution_count": null,
   "id": "f2859bf6",
   "metadata": {},
   "outputs": [],
   "source": [
    "type(a)"
   ]
  },
  {
   "cell_type": "code",
   "execution_count": null,
   "id": "3bde820c",
   "metadata": {},
   "outputs": [],
   "source": [
    "a.__class__"
   ]
  },
  {
   "cell_type": "code",
   "execution_count": null,
   "id": "519efeb5",
   "metadata": {},
   "outputs": [],
   "source": [
    "for data in [1,2,3,4]:\n",
    "    print(data)"
   ]
  },
  {
   "cell_type": "code",
   "execution_count": null,
   "id": "6a2af470",
   "metadata": {},
   "outputs": [],
   "source": [
    "for data in \"abc\":\n",
    "    print(data)"
   ]
  },
  {
   "cell_type": "code",
   "execution_count": null,
   "id": "7a276ddf",
   "metadata": {},
   "outputs": [],
   "source": [
    "for data in {'a':1,'b':2}:\n",
    "    print(data)"
   ]
  },
  {
   "cell_type": "code",
   "execution_count": null,
   "id": "54b482cb",
   "metadata": {},
   "outputs": [],
   "source": [
    "dict_data = {'a':1,'b':2}\n",
    "for data in dict_data:\n",
    "    print(data)\n",
    "    print(dict_data[data])"
   ]
  },
  {
   "cell_type": "code",
   "execution_count": null,
   "id": "da143971",
   "metadata": {},
   "outputs": [],
   "source": [
    "for data in dict_data.keys():\n",
    "    print(data)"
   ]
  },
  {
   "cell_type": "code",
   "execution_count": null,
   "id": "737794bc",
   "metadata": {},
   "outputs": [],
   "source": [
    "for data in dict_data.values():\n",
    "    print(data)"
   ]
  },
  {
   "cell_type": "code",
   "execution_count": null,
   "id": "4713127e",
   "metadata": {},
   "outputs": [],
   "source": [
    "for (k,v) in dict_data.items():\n",
    "    print(k,v)"
   ]
  },
  {
   "cell_type": "code",
   "execution_count": null,
   "id": "6e4aa7a5",
   "metadata": {},
   "outputs": [],
   "source": [
    "print(\"HEIGHT : \" + str(165))"
   ]
  },
  {
   "cell_type": "code",
   "execution_count": null,
   "id": "802ceb16",
   "metadata": {},
   "outputs": [],
   "source": [
    "f'HEIGHT : {165}'"
   ]
  },
  {
   "cell_type": "markdown",
   "id": "a456eacc",
   "metadata": {},
   "source": [
    "break"
   ]
  },
  {
   "cell_type": "code",
   "execution_count": null,
   "id": "f285f4ec",
   "metadata": {},
   "outputs": [],
   "source": [
    "for data in range(5):\n",
    "    print(\"loop\")\n",
    "    break"
   ]
  },
  {
   "cell_type": "markdown",
   "id": "336c1224",
   "metadata": {},
   "source": [
    "### continue"
   ]
  },
  {
   "cell_type": "code",
   "execution_count": null,
   "id": "79d1f741",
   "metadata": {},
   "outputs": [],
   "source": [
    "for data in range(10):\n",
    "    if data % 2 == 0:\n",
    "        continue\n",
    "    print(f'{data} :loop')"
   ]
  },
  {
   "cell_type": "markdown",
   "id": "3c6400ab",
   "metadata": {},
   "source": [
    "for문이 모두 진행된후 else가 실행됨 <br>\n",
    "단 break가 있을경우 else를 포함해서 종료<br>\n",
    "continue는 상관없음"
   ]
  },
  {
   "cell_type": "code",
   "execution_count": null,
   "id": "d0fd54fb",
   "metadata": {},
   "outputs": [],
   "source": [
    "for data in range(5):\n",
    "    if data == 3:\n",
    "        break\n",
    "    print(data)\n",
    "else:\n",
    "    print(\"for loop end\")"
   ]
  },
  {
   "cell_type": "code",
   "execution_count": null,
   "id": "87848c2c",
   "metadata": {},
   "outputs": [],
   "source": [
    "for i in range(2,10):\n",
    "    print(f'{i}단')\n",
    "    for z in range(1,10):\n",
    "            print(f'{i} X {z} = {i*z}')"
   ]
  },
  {
   "cell_type": "markdown",
   "id": "02199d5c",
   "metadata": {},
   "source": [
    "#### while문\n",
    "- 특정 조건식이 만족하는 경우에 순환을 처리"
   ]
  },
  {
   "cell_type": "code",
   "execution_count": null,
   "id": "cc2f0670",
   "metadata": {},
   "outputs": [],
   "source": [
    "index = 0\n",
    "while True:\n",
    "    print('loop')\n",
    "    index += 1\n",
    "    if index > 10:\n",
    "        break"
   ]
  },
  {
   "cell_type": "code",
   "execution_count": null,
   "id": "534ae057",
   "metadata": {},
   "outputs": [],
   "source": [
    "i = 1\n",
    "z = 1\n",
    "while True:\n",
    "    i +=1\n",
    "    z = 1\n",
    "    if i == 10:\n",
    "        break\n",
    "    print(f'{i}단')\n",
    "    \n",
    "\n",
    "    while True:\n",
    "        print (f'{i} X {z}  = {i*z}')\n",
    "        z += 1\n",
    "        if z == 10:\n",
    "               break"
   ]
  },
  {
   "cell_type": "markdown",
   "id": "326a3012",
   "metadata": {},
   "source": [
    "# 2. 제어문\n",
    "\n",
    "keyword : if (elif) else <Br>\n",
    "특정 조건을 판단해서 특정 기능을 처리."
   ]
  },
  {
   "cell_type": "markdown",
   "id": "2e8b5820",
   "metadata": {},
   "source": [
    "### 비교연산자\n",
    "\n",
    "== { eqyal } , < , > , <= , >= \n"
   ]
  },
  {
   "cell_type": "code",
   "execution_count": null,
   "id": "6bc7a571",
   "metadata": {},
   "outputs": [],
   "source": [
    "100 == 100"
   ]
  },
  {
   "cell_type": "code",
   "execution_count": null,
   "id": "48ac336c",
   "metadata": {},
   "outputs": [],
   "source": [
    "100 < 99"
   ]
  },
  {
   "cell_type": "markdown",
   "id": "559714f2",
   "metadata": {},
   "source": [
    "### 논리 연산자\n",
    "\n",
    "and , or\n"
   ]
  },
  {
   "cell_type": "code",
   "execution_count": null,
   "id": "821dc7a9",
   "metadata": {},
   "outputs": [],
   "source": [
    "(100 == 100) and (100 > 99)"
   ]
  },
  {
   "cell_type": "code",
   "execution_count": null,
   "id": "1244bf6c",
   "metadata": {},
   "outputs": [],
   "source": [
    "(100 == 100) and (100 < 99)"
   ]
  },
  {
   "cell_type": "code",
   "execution_count": null,
   "id": "a0550d1a",
   "metadata": {},
   "outputs": [],
   "source": [
    "(100 == 100) or (100 > 99)"
   ]
  },
  {
   "cell_type": "code",
   "execution_count": null,
   "id": "b19ac5c0",
   "metadata": {},
   "outputs": [],
   "source": [
    "(100 == 100) or (100 < 99)"
   ]
  },
  {
   "cell_type": "markdown",
   "id": "e9627406",
   "metadata": {},
   "source": [
    "### 단순 조건문 if"
   ]
  },
  {
   "cell_type": "code",
   "execution_count": null,
   "id": "d01d6cdb",
   "metadata": {},
   "outputs": [],
   "source": [
    "import random"
   ]
  },
  {
   "cell_type": "code",
   "execution_count": null,
   "id": "684fbd33",
   "metadata": {},
   "outputs": [],
   "source": [
    "random_value = random.randint(0,10)\n",
    "\n",
    "if random_value < 5:\n",
    "    print(\"True\")\n",
    "else:\n",
    "    print(\"False\")\n",
    "print(random_value)"
   ]
  },
  {
   "cell_type": "code",
   "execution_count": null,
   "id": "6266822d",
   "metadata": {},
   "outputs": [],
   "source": [
    "random_value = random.randint(0,10)\n",
    "\n",
    "if random_value < 3:\n",
    "    print(\"3 under\")\n",
    "elif random_value < 6:\n",
    "    print(\"6 under\")\n",
    "else:\n",
    "    print(\"6 over\")\n",
    "print(random_value)"
   ]
  },
  {
   "cell_type": "markdown",
   "id": "fb46fc5f",
   "metadata": {},
   "source": [
    "### 삼항연산자"
   ]
  },
  {
   "cell_type": "code",
   "execution_count": null,
   "id": "a6f7d402",
   "metadata": {},
   "outputs": [],
   "source": [
    "random_value = random.randint(0,10)\n",
    "\n",
    "print(\"5 over\") if random_value >= 5 else print(\"5 under\")\n",
    "print(random_value)"
   ]
  },
  {
   "cell_type": "code",
   "execution_count": null,
   "id": "7ef464b6",
   "metadata": {},
   "outputs": [],
   "source": [
    "def game_20():\n",
    "    random_value = random.randint(0,10)\n",
    "    print(random_value)\n",
    "    for i in range(1,21):\n",
    "        answer = int(input(\"값을 입력하세요\"))\n",
    "        if answer == random_value:\n",
    "            print(f'정답입니다 {i}번 시도했습니다')\n",
    "            break\n",
    "        else:\n",
    "            if answer > random_value:\n",
    "                print(f'정답이 아닙니다 {answer}이하입니다')        \n",
    "            if answer < random_value:\n",
    "                print(f'정답이 아닙니다 {answer}이상입니다')\n",
    "            print(f'{i}번 시도했습니다')\n",
    "    else:\n",
    "        print(\"기회를 모두 소진하셨습니다\")"
   ]
  },
  {
   "cell_type": "code",
   "execution_count": null,
   "id": "194422ca",
   "metadata": {},
   "outputs": [],
   "source": [
    "game_20()"
   ]
  },
  {
   "cell_type": "code",
   "execution_count": null,
   "id": "ad9341a9",
   "metadata": {},
   "outputs": [],
   "source": [
    "import keyword"
   ]
  },
  {
   "cell_type": "code",
   "execution_count": null,
   "id": "497bae8a",
   "metadata": {},
   "outputs": [],
   "source": [
    "print(keyword.kwlist)"
   ]
  },
  {
   "cell_type": "code",
   "execution_count": null,
   "id": "fce3d3d5",
   "metadata": {},
   "outputs": [],
   "source": [
    "dict_value = {\n",
    "    '1' : \"1을 눌렀습니다.\",\n",
    "    '2' : \"2을 눌렀습니다.\",\n",
    "    '3' : \"3을 눌렀습니다.\",\n",
    "}"
   ]
  },
  {
   "cell_type": "code",
   "execution_count": null,
   "id": "09464ad5",
   "metadata": {},
   "outputs": [],
   "source": [
    "if '1' in dict_value:\n",
    "    print(dict_value['1'])"
   ]
  },
  {
   "cell_type": "markdown",
   "id": "4e4287b7",
   "metadata": {},
   "source": [
    "### project euler 사이트에서 공부해볼것"
   ]
  },
  {
   "cell_type": "code",
   "execution_count": 4,
   "id": "53759429",
   "metadata": {},
   "outputs": [
    {
     "name": "stdout",
     "output_type": "stream",
     "text": [
      "200 375 425\n"
     ]
    }
   ],
   "source": [
    "a = 1\n",
    "b = 2\n",
    "c = 3\n",
    "\n",
    "for a_value in range(1,1000):\n",
    "    for b_value in range(1,1000):\n",
    "        if b_value < a_value:\n",
    "            continue\n",
    "        for c_value in range(1,1000):\n",
    "            if c_value < b_value:\n",
    "                continue\n",
    "            if a_value + b_value + c_value == 1000:\n",
    "                if (a_value**2 + b_value**2) == c_value**2:\n",
    "                    print(a_value,b_value,c_value)\n",
    "                    break\n",
    "                    \n",
    "        "
   ]
  },
  {
   "cell_type": "code",
   "execution_count": null,
   "id": "04c82f96",
   "metadata": {},
   "outputs": [],
   "source": [
    "\n",
    "\n",
    "for a in range(0,1000):\n",
    "    print(a)\n",
    "    for b in range(0,1000):\n",
    "        print(b)\n",
    "        for c in range(0,1000):\n",
    "            print(c)\n",
    "            if (a < b) and (b < c):\n",
    "                if (a*a) + (b*b) == (c*c):\n",
    "                    if (a + b + c) == 1000:\n",
    "                        print(\"정답\")\n",
    "                        print(a * b * c)\n"
   ]
  },
  {
   "cell_type": "markdown",
   "id": "b00ace80",
   "metadata": {},
   "source": [
    "# 3. 예외문\n",
    "keyword : try except\n",
    "모든 코드는 실행 중에 에러나 예외가 발생하는 상황 존재.<br>\n",
    "특정 코드를 처리하게끔 해주는 것."
   ]
  },
  {
   "cell_type": "code",
   "execution_count": null,
   "id": "6d14fb41",
   "metadata": {},
   "outputs": [],
   "source": [
    "import sys\n",
    "\n",
    "is_try = False\n",
    "print(is_try)\n",
    "\n",
    "try:\n",
    "    print(\"try\")\n",
    "\n",
    "    print(\"str\" + 1)\n",
    "except:\n",
    "    print(\"Exception\")\n",
    "    is_try = True\n",
    "    print(sys.exc_info()[0])\n",
    "finally:\n",
    "    print(\"Finally\")\n",
    "    if is_try == True:\n",
    "        print(\"Send Email for warning\")"
   ]
  },
  {
   "cell_type": "code",
   "execution_count": null,
   "id": "f93bb310",
   "metadata": {},
   "outputs": [],
   "source": [
    "print('str' + 1)"
   ]
  },
  {
   "cell_type": "code",
   "execution_count": null,
   "id": "37a08c35",
   "metadata": {},
   "outputs": [],
   "source": [
    "a = [1,2,3,4]"
   ]
  },
  {
   "cell_type": "code",
   "execution_count": null,
   "id": "09a1553c",
   "metadata": {},
   "outputs": [],
   "source": [
    "a"
   ]
  },
  {
   "cell_type": "code",
   "execution_count": null,
   "id": "c3ac0117",
   "metadata": {},
   "outputs": [],
   "source": [
    "b = a"
   ]
  },
  {
   "cell_type": "code",
   "execution_count": null,
   "id": "8f0931a6",
   "metadata": {},
   "outputs": [],
   "source": [
    "b"
   ]
  },
  {
   "cell_type": "code",
   "execution_count": null,
   "id": "53cfe90d",
   "metadata": {},
   "outputs": [],
   "source": [
    "id(a),id(b)"
   ]
  },
  {
   "cell_type": "code",
   "execution_count": null,
   "id": "5ef1314d",
   "metadata": {},
   "outputs": [],
   "source": [
    "b[0] = 100"
   ]
  },
  {
   "cell_type": "code",
   "execution_count": null,
   "id": "4403e311",
   "metadata": {},
   "outputs": [],
   "source": [
    "a,b"
   ]
  },
  {
   "cell_type": "code",
   "execution_count": null,
   "id": "53bd9d58",
   "metadata": {},
   "outputs": [],
   "source": [
    "import copy"
   ]
  },
  {
   "cell_type": "code",
   "execution_count": null,
   "id": "98e372cc",
   "metadata": {},
   "outputs": [],
   "source": [
    "a = [1,2,3,4]"
   ]
  },
  {
   "cell_type": "code",
   "execution_count": null,
   "id": "29b1b262",
   "metadata": {},
   "outputs": [],
   "source": [
    "b = copy.deepcopy(a)"
   ]
  },
  {
   "cell_type": "code",
   "execution_count": null,
   "id": "50516252",
   "metadata": {},
   "outputs": [],
   "source": [
    "b"
   ]
  },
  {
   "cell_type": "code",
   "execution_count": null,
   "id": "a350e52d",
   "metadata": {},
   "outputs": [],
   "source": [
    "id(a),id(b)"
   ]
  },
  {
   "cell_type": "code",
   "execution_count": null,
   "id": "c662d9a9",
   "metadata": {},
   "outputs": [],
   "source": [
    "from datetime import *"
   ]
  },
  {
   "cell_type": "code",
   "execution_count": null,
   "id": "fe86833d",
   "metadata": {},
   "outputs": [],
   "source": [
    "def datetime():\n",
    "    return 5"
   ]
  },
  {
   "cell_type": "code",
   "execution_count": null,
   "id": "440ab784",
   "metadata": {},
   "outputs": [],
   "source": [
    "datetime()"
   ]
  },
  {
   "cell_type": "code",
   "execution_count": null,
   "id": "e370f6fb",
   "metadata": {},
   "outputs": [],
   "source": [
    "datetime.__class__"
   ]
  },
  {
   "cell_type": "code",
   "execution_count": null,
   "id": "743e3a0c",
   "metadata": {},
   "outputs": [],
   "source": [
    "from datetime import datetime"
   ]
  },
  {
   "cell_type": "code",
   "execution_count": null,
   "id": "81ab5b57",
   "metadata": {},
   "outputs": [],
   "source": [
    "datetime.__class__"
   ]
  }
 ],
 "metadata": {
  "kernelspec": {
   "display_name": "Python 3",
   "language": "python",
   "name": "python3"
  },
  "language_info": {
   "codemirror_mode": {
    "name": "ipython",
    "version": 3
   },
   "file_extension": ".py",
   "mimetype": "text/x-python",
   "name": "python",
   "nbconvert_exporter": "python",
   "pygments_lexer": "ipython3",
   "version": "3.8.8"
  }
 },
 "nbformat": 4,
 "nbformat_minor": 5
}
