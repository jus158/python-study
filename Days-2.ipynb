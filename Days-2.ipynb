{
 "cells": [
  {
   "cell_type": "markdown",
   "id": "3801ccb9",
   "metadata": {},
   "source": [
    "### 정수 (int) cached internal"
   ]
  },
  {
   "cell_type": "code",
   "execution_count": 1,
   "id": "f0803cdf",
   "metadata": {},
   "outputs": [
    {
     "data": {
      "text/plain": [
       "100"
      ]
     },
     "execution_count": 1,
     "metadata": {},
     "output_type": "execute_result"
    }
   ],
   "source": [
    "100"
   ]
  },
  {
   "cell_type": "markdown",
   "id": "130ceabd",
   "metadata": {},
   "source": [
    "[-5,256]범위의 정수는 인스턴스를 재생성하지 않는다"
   ]
  },
  {
   "cell_type": "code",
   "execution_count": 2,
   "id": "d4163c4a",
   "metadata": {},
   "outputs": [],
   "source": [
    "a = 256; b = 256; c = 256"
   ]
  },
  {
   "cell_type": "code",
   "execution_count": 3,
   "id": "43b8ef01",
   "metadata": {},
   "outputs": [
    {
     "data": {
      "text/plain": [
       "True"
      ]
     },
     "execution_count": 3,
     "metadata": {},
     "output_type": "execute_result"
    }
   ],
   "source": [
    "a is b is c"
   ]
  },
  {
   "cell_type": "code",
   "execution_count": 4,
   "id": "e10b049d",
   "metadata": {},
   "outputs": [
    {
     "data": {
      "text/plain": [
       "(140736907659024, 140736907659024, 140736907659024)"
      ]
     },
     "execution_count": 4,
     "metadata": {},
     "output_type": "execute_result"
    }
   ],
   "source": [
    "id(a),id(b),id(c)"
   ]
  },
  {
   "cell_type": "code",
   "execution_count": 8,
   "id": "51fc9705",
   "metadata": {},
   "outputs": [],
   "source": [
    "d = 257;e = 257;f = 257;"
   ]
  },
  {
   "cell_type": "code",
   "execution_count": 9,
   "id": "4b926fb9",
   "metadata": {},
   "outputs": [
    {
     "data": {
      "text/plain": [
       "False"
      ]
     },
     "execution_count": 9,
     "metadata": {},
     "output_type": "execute_result"
    }
   ],
   "source": [
    "d is e is f"
   ]
  },
  {
   "cell_type": "code",
   "execution_count": 10,
   "id": "68e1725e",
   "metadata": {},
   "outputs": [
    {
     "data": {
      "text/plain": [
       "(2060673890320, 2060673890128, 2060673889968)"
      ]
     },
     "execution_count": 10,
     "metadata": {},
     "output_type": "execute_result"
    }
   ],
   "source": [
    "id(d),id(e),id(f)"
   ]
  },
  {
   "cell_type": "markdown",
   "id": "19edb3e8",
   "metadata": {},
   "source": [
    "### str 객체의 cached internal\n"
   ]
  },
  {
   "cell_type": "code",
   "execution_count": 12,
   "id": "2a723537",
   "metadata": {},
   "outputs": [],
   "source": [
    "a = \"ab\"; b = \"ab\" ;c = \"ab\";"
   ]
  },
  {
   "cell_type": "code",
   "execution_count": 13,
   "id": "b1cef4e3",
   "metadata": {},
   "outputs": [
    {
     "data": {
      "text/plain": [
       "True"
      ]
     },
     "execution_count": 13,
     "metadata": {},
     "output_type": "execute_result"
    }
   ],
   "source": [
    "a is b is c"
   ]
  },
  {
   "cell_type": "code",
   "execution_count": 16,
   "id": "f4365acb",
   "metadata": {},
   "outputs": [],
   "source": [
    "d = \"!!\";e = \"!!\";f = \"!!\";"
   ]
  },
  {
   "cell_type": "code",
   "execution_count": 17,
   "id": "89656730",
   "metadata": {},
   "outputs": [
    {
     "data": {
      "text/plain": [
       "False"
      ]
     },
     "execution_count": 17,
     "metadata": {},
     "output_type": "execute_result"
    }
   ],
   "source": [
    "d is e is f"
   ]
  },
  {
   "cell_type": "code",
   "execution_count": 18,
   "id": "e1cedbba",
   "metadata": {},
   "outputs": [
    {
     "data": {
      "text/plain": [
       "(2060674742960, 2060674776112, 2060674776176)"
      ]
     },
     "execution_count": 18,
     "metadata": {},
     "output_type": "execute_result"
    }
   ],
   "source": [
    "id(d),id(e),id(f)"
   ]
  },
  {
   "cell_type": "markdown",
   "id": "7df50bf3",
   "metadata": {},
   "source": [
    "### 함수"
   ]
  },
  {
   "cell_type": "markdown",
   "id": "073fd805",
   "metadata": {},
   "source": [
    "반복되는 코드의 중복을 방지하기 위한 하나의 코드 블록을 이야기한다. <br>\n",
    "정의를 먼저 진행하고 이 함수의<br> 이름을 호출해서 사용한다. ( () )<br>\n",
    "순수함수, 비순수함수\n",
    "순수함수 : 입력을 받아서 출력을 처리해서 전달해주는 함수 (ex: f(x) = y)<br>\n",
    "비순수함수 : 함수 내의 기능의 외부의 변수나 객체를 호출한다음에 상태를 바꿔주는 함수 (ex:f(x)"
   ]
  },
  {
   "cell_type": "code",
   "execution_count": 19,
   "id": "54be0b56",
   "metadata": {},
   "outputs": [],
   "source": [
    "def soonsu(a,b):\n",
    "    return a+b"
   ]
  },
  {
   "cell_type": "code",
   "execution_count": 28,
   "id": "f3968331",
   "metadata": {},
   "outputs": [],
   "source": [
    "c = 0\n",
    "def bisoonso(a,b):\n",
    "   globals()['c'] = a+b"
   ]
  },
  {
   "cell_type": "code",
   "execution_count": 21,
   "id": "4add74c2",
   "metadata": {},
   "outputs": [],
   "source": [
    "d = soonsu(10,10)"
   ]
  },
  {
   "cell_type": "code",
   "execution_count": 22,
   "id": "2a7151a2",
   "metadata": {},
   "outputs": [
    {
     "data": {
      "text/plain": [
       "20"
      ]
     },
     "execution_count": 22,
     "metadata": {},
     "output_type": "execute_result"
    }
   ],
   "source": [
    "d"
   ]
  },
  {
   "cell_type": "code",
   "execution_count": 23,
   "id": "49d24160",
   "metadata": {},
   "outputs": [
    {
     "data": {
      "text/plain": [
       "int"
      ]
     },
     "execution_count": 23,
     "metadata": {},
     "output_type": "execute_result"
    }
   ],
   "source": [
    "type(d)"
   ]
  },
  {
   "cell_type": "code",
   "execution_count": 31,
   "id": "c87ad564",
   "metadata": {},
   "outputs": [],
   "source": [
    "e = bisoonso(10,20)"
   ]
  },
  {
   "cell_type": "code",
   "execution_count": 33,
   "id": "b61c870c",
   "metadata": {},
   "outputs": [
    {
     "data": {
      "text/plain": [
       "30"
      ]
     },
     "execution_count": 33,
     "metadata": {},
     "output_type": "execute_result"
    }
   ],
   "source": [
    "c"
   ]
  },
  {
   "cell_type": "markdown",
   "id": "0c1110ab",
   "metadata": {},
   "source": [
    "## 1.함수 정의\n",
    "### 함수 정의문\n",
    "- 함수는 콜론(:)을 기준으로 좌측에는 헤더부(Geader)이고, 우측이나 아래는 몸체부(Body).\n",
    "- 헤더부 : 함수명과 매개변수(parameter)\n",
    "- 몸체부 : 로직과 return처리\n",
    "\n",
    "> def 키워드+함수명(매개변수):<br>\n",
    "    로직<br>\n",
    "    return"
   ]
  },
  {
   "cell_type": "code",
   "execution_count": 34,
   "id": "ebccadf9",
   "metadata": {},
   "outputs": [],
   "source": [
    "def add(x,y):\n",
    "    return x+y"
   ]
  },
  {
   "cell_type": "code",
   "execution_count": 35,
   "id": "1cc2f7a1",
   "metadata": {},
   "outputs": [
    {
     "data": {
      "text/plain": [
       "5"
      ]
     },
     "execution_count": 35,
     "metadata": {},
     "output_type": "execute_result"
    }
   ],
   "source": [
    "add(2,3)"
   ]
  },
  {
   "cell_type": "code",
   "execution_count": 36,
   "id": "cb486594",
   "metadata": {},
   "outputs": [
    {
     "data": {
      "text/plain": [
       "True"
      ]
     },
     "execution_count": 36,
     "metadata": {},
     "output_type": "execute_result"
    }
   ],
   "source": [
    "callable(add)"
   ]
  },
  {
   "cell_type": "code",
   "execution_count": 37,
   "id": "5b20d0ec",
   "metadata": {},
   "outputs": [
    {
     "name": "stdout",
     "output_type": "stream",
     "text": [
      "['__annotations__', '__call__', '__class__', '__closure__', '__code__', '__defaults__', '__delattr__', '__dict__', '__dir__', '__doc__', '__eq__', '__format__', '__ge__', '__get__', '__getattribute__', '__globals__', '__gt__', '__hash__', '__init__', '__init_subclass__', '__kwdefaults__', '__le__', '__lt__', '__module__', '__name__', '__ne__', '__new__', '__qualname__', '__reduce__', '__reduce_ex__', '__repr__', '__setattr__', '__sizeof__', '__str__', '__subclasshook__']\n"
     ]
    }
   ],
   "source": [
    "print(dir(add))"
   ]
  },
  {
   "cell_type": "markdown",
   "id": "4899595c",
   "metadata": {},
   "source": [
    "### 함수 호출을 위해 호출연산자 사용\n",
    "- 함수이름 다음에 괄호 즉 함수호출연산자를 사용한다.\n",
    "- 함수에 매개변수가 있으면, 해당하는 값인 인자를 전달해야 한다.\n"
   ]
  },
  {
   "cell_type": "code",
   "execution_count": 38,
   "id": "105cb4c5",
   "metadata": {},
   "outputs": [
    {
     "data": {
      "text/plain": [
       "7"
      ]
     },
     "execution_count": 38,
     "metadata": {},
     "output_type": "execute_result"
    }
   ],
   "source": [
    "add(2,5)"
   ]
  },
  {
   "cell_type": "code",
   "execution_count": 39,
   "id": "b32ad362",
   "metadata": {},
   "outputs": [
    {
     "data": {
      "text/plain": [
       "7"
      ]
     },
     "execution_count": 39,
     "metadata": {},
     "output_type": "execute_result"
    }
   ],
   "source": [
    "add.__call__(2,5)"
   ]
  },
  {
   "cell_type": "markdown",
   "id": "f8de71ce",
   "metadata": {},
   "source": [
    "# 함수\n",
    "- def 함수명(매개변수):<br>\n",
    "    출력(return)\n",
    "# 매소드\n",
    "클레스나 모듈안에 있는 함수를 호출하는 것<br>\n",
    "- def 객체(인스턴스)"
   ]
  },
  {
   "cell_type": "code",
   "execution_count": 42,
   "id": "2bb21969",
   "metadata": {},
   "outputs": [],
   "source": [
    "def add(a,b):\n",
    "    return a+b"
   ]
  },
  {
   "cell_type": "code",
   "execution_count": 43,
   "id": "6cb2b209",
   "metadata": {},
   "outputs": [],
   "source": [
    "class A:\n",
    "    def add(self,a,b):\n",
    "        return a+b+b"
   ]
  },
  {
   "cell_type": "code",
   "execution_count": 44,
   "id": "17c5100a",
   "metadata": {},
   "outputs": [
    {
     "data": {
      "text/plain": [
       "20"
      ]
     },
     "execution_count": 44,
     "metadata": {},
     "output_type": "execute_result"
    }
   ],
   "source": [
    "add(10,10)"
   ]
  },
  {
   "cell_type": "code",
   "execution_count": 46,
   "id": "1327f354",
   "metadata": {},
   "outputs": [],
   "source": [
    "b = A()"
   ]
  },
  {
   "cell_type": "code",
   "execution_count": 47,
   "id": "b0dd8fc1",
   "metadata": {},
   "outputs": [
    {
     "data": {
      "text/plain": [
       "<__main__.A at 0x1dfc9c9c580>"
      ]
     },
     "execution_count": 47,
     "metadata": {},
     "output_type": "execute_result"
    }
   ],
   "source": [
    "b"
   ]
  },
  {
   "cell_type": "code",
   "execution_count": 48,
   "id": "05b98c77",
   "metadata": {},
   "outputs": [
    {
     "name": "stdout",
     "output_type": "stream",
     "text": [
      "['__class__', '__delattr__', '__dict__', '__dir__', '__doc__', '__eq__', '__format__', '__ge__', '__getattribute__', '__gt__', '__hash__', '__init__', '__init_subclass__', '__le__', '__lt__', '__module__', '__ne__', '__new__', '__reduce__', '__reduce_ex__', '__repr__', '__setattr__', '__sizeof__', '__str__', '__subclasshook__', '__weakref__', 'add']\n"
     ]
    }
   ],
   "source": [
    "print(dir(b))"
   ]
  },
  {
   "cell_type": "code",
   "execution_count": 49,
   "id": "975a10c1",
   "metadata": {},
   "outputs": [
    {
     "data": {
      "text/plain": [
       "<bound method A.add of <__main__.A object at 0x000001DFC9C9C580>>"
      ]
     },
     "execution_count": 49,
     "metadata": {},
     "output_type": "execute_result"
    }
   ],
   "source": [
    "b.add"
   ]
  },
  {
   "cell_type": "code",
   "execution_count": 50,
   "id": "27350778",
   "metadata": {},
   "outputs": [
    {
     "data": {
      "text/plain": [
       "30"
      ]
     },
     "execution_count": 50,
     "metadata": {},
     "output_type": "execute_result"
    }
   ],
   "source": [
    "b.add(10,10)"
   ]
  },
  {
   "cell_type": "markdown",
   "id": "6ee00e33",
   "metadata": {},
   "source": [
    "\n",
    "### 일반 로직과 하수 처리 비교\n",
    "일반로직 : 한번을 처리할떄 일반적인 로직으로 처리<br>\n",
    "동일한 로직을 여러번 사용할떄는 함수로 정의해서 사용가능"
   ]
  },
  {
   "cell_type": "code",
   "execution_count": 54,
   "id": "00585166",
   "metadata": {},
   "outputs": [
    {
     "name": "stdout",
     "output_type": "stream",
     "text": [
      "45\n"
     ]
    }
   ],
   "source": [
    "a = 0\n",
    "for data in range(0,10):\n",
    "    a += data\n",
    "print(a)"
   ]
  },
  {
   "cell_type": "code",
   "execution_count": 56,
   "id": "fcff73d5",
   "metadata": {},
   "outputs": [],
   "source": [
    "def add_function(a):\n",
    "    for data in range(0,10):\n",
    "        a += data\n",
    "    return a"
   ]
  },
  {
   "cell_type": "code",
   "execution_count": 57,
   "id": "b6e059e6",
   "metadata": {},
   "outputs": [
    {
     "data": {
      "text/plain": [
       "90"
      ]
     },
     "execution_count": 57,
     "metadata": {},
     "output_type": "execute_result"
    }
   ],
   "source": [
    "add_function(a)"
   ]
  },
  {
   "cell_type": "code",
   "execution_count": 58,
   "id": "68c3308d",
   "metadata": {},
   "outputs": [
    {
     "data": {
      "text/plain": [
       "45"
      ]
     },
     "execution_count": 58,
     "metadata": {},
     "output_type": "execute_result"
    }
   ],
   "source": [
    "a"
   ]
  },
  {
   "cell_type": "code",
   "execution_count": 59,
   "id": "dadaee41",
   "metadata": {},
   "outputs": [
    {
     "data": {
      "text/plain": [
       "90"
      ]
     },
     "execution_count": 59,
     "metadata": {},
     "output_type": "execute_result"
    }
   ],
   "source": [
    "globals()['add_function'](a)"
   ]
  },
  {
   "cell_type": "code",
   "execution_count": 60,
   "id": "d51284e7",
   "metadata": {},
   "outputs": [
    {
     "data": {
      "text/plain": [
       "45"
      ]
     },
     "execution_count": 60,
     "metadata": {},
     "output_type": "execute_result"
    }
   ],
   "source": [
    "a"
   ]
  },
  {
   "cell_type": "code",
   "execution_count": 61,
   "id": "680d2122",
   "metadata": {},
   "outputs": [
    {
     "data": {
      "text/plain": [
       "45"
      ]
     },
     "execution_count": 61,
     "metadata": {},
     "output_type": "execute_result"
    }
   ],
   "source": [
    "globals()['a']"
   ]
  },
  {
   "cell_type": "code",
   "execution_count": 62,
   "id": "4b810eb6",
   "metadata": {},
   "outputs": [],
   "source": [
    "add_function_ = add_function"
   ]
  },
  {
   "cell_type": "code",
   "execution_count": 63,
   "id": "1f5df514",
   "metadata": {},
   "outputs": [
    {
     "data": {
      "text/plain": [
       "90"
      ]
     },
     "execution_count": 63,
     "metadata": {},
     "output_type": "execute_result"
    }
   ],
   "source": [
    "add_function_(a)"
   ]
  },
  {
   "cell_type": "code",
   "execution_count": 64,
   "id": "ac902194",
   "metadata": {},
   "outputs": [
    {
     "data": {
      "text/plain": [
       "'add_function'"
      ]
     },
     "execution_count": 64,
     "metadata": {},
     "output_type": "execute_result"
    }
   ],
   "source": [
    "add_function.__name__"
   ]
  },
  {
   "cell_type": "markdown",
   "id": "0596f9ab",
   "metadata": {},
   "source": [
    "### 매개변수\n",
    "+ 컴퓨터 프로그래밍에서 매개변수란 변수의 종류로서 함수등과 같은 "
   ]
  },
  {
   "cell_type": "code",
   "execution_count": 77,
   "id": "ed743bc7",
   "metadata": {},
   "outputs": [],
   "source": [
    "def add(a:int,b:int):\n",
    "    if type(a) == str:\n",
    "        print(\"매개변수 값을 수정해주세요. ( int만 가능합니다 )\")\n",
    "        return None\n",
    "    return a+b"
   ]
  },
  {
   "cell_type": "code",
   "execution_count": 69,
   "id": "c4319f37",
   "metadata": {},
   "outputs": [
    {
     "data": {
      "text/plain": [
       "{'a': int, 'b': int}"
      ]
     },
     "execution_count": 69,
     "metadata": {},
     "output_type": "execute_result"
    }
   ],
   "source": [
    "add.__annotations__"
   ]
  },
  {
   "cell_type": "code",
   "execution_count": 76,
   "id": "97c4ed88",
   "metadata": {},
   "outputs": [
    {
     "name": "stdout",
     "output_type": "stream",
     "text": [
      "a의 매개변수 값을 수정해주세요. ( int만 가능합니다 )\n"
     ]
    }
   ],
   "source": [
    "add('1','2')\n"
   ]
  },
  {
   "cell_type": "code",
   "execution_count": 78,
   "id": "e53c3c5c",
   "metadata": {},
   "outputs": [
    {
     "data": {
      "text/plain": [
       "float"
      ]
     },
     "execution_count": 78,
     "metadata": {},
     "output_type": "execute_result"
    }
   ],
   "source": [
    "type(10.1)"
   ]
  },
  {
   "cell_type": "code",
   "execution_count": null,
   "id": "64ed4f1e",
   "metadata": {},
   "outputs": [],
   "source": [
    "while True:\n",
    "    num = input(\"숫자를 입력해주세요\")\n",
    "    if num != int and num != float:\n",
    "        print(\"입력하신건 숫자가 아닙니다\")\n",
    "        return continue\n",
    "    cal = input(\"사직연산기호를 입력해주세요\")\n",
    "    num2 = input(\"두번쨰 숫자를 입력해주세요\")\n",
    "    if cal == '+':\n",
    "        print(f'{num} + {num2} = {num+num2})\n",
    "        break\n",
    "    else if cal == '-':\n",
    "        print(f'{num} - {num2} = {num-num2})\n",
    "        break\n",
    "    else if cal == '*':\n",
    "        print(f'{num} * {num2} = {num*num2})\n",
    "        break\n",
    "    else if cal == '/':\n",
    "        print(f'{num} / {num2} = {num/num2})\n",
    "        break\n",
    "    else:\n",
    "        print(\"사칙연산기호를 입력해주세요\")\n",
    "        break"
   ]
  },
  {
   "cell_type": "code",
   "execution_count": 79,
   "id": "5d4a7c7a",
   "metadata": {},
   "outputs": [],
   "source": [
    "def add(a,b):\n",
    "    return a+b\n",
    "def subtract(a,b):\n",
    "    return a-b\n",
    "def multiplied_by(a,b):\n",
    "    return a*b\n",
    "def divided_by(a,b):\n",
    "    return a/b"
   ]
  },
  {
   "cell_type": "code",
   "execution_count": 80,
   "id": "29041c80",
   "metadata": {},
   "outputs": [
    {
     "name": "stdout",
     "output_type": "stream",
     "text": [
      "13\n"
     ]
    }
   ],
   "source": [
    "a = add(10,3)\n",
    "print(a)"
   ]
  },
  {
   "cell_type": "code",
   "execution_count": 81,
   "id": "e5a5f0c3",
   "metadata": {},
   "outputs": [
    {
     "name": "stdout",
     "output_type": "stream",
     "text": [
      "10\n"
     ]
    }
   ],
   "source": [
    "a = subtract(a,3)\n",
    "print(a)"
   ]
  },
  {
   "cell_type": "code",
   "execution_count": 98,
   "id": "9e23cd91",
   "metadata": {},
   "outputs": [],
   "source": [
    "class Calculater:\n",
    "    result = 0\n",
    "    \n",
    "    def add(self,a):\n",
    "         self.result+=a\n",
    "            \n",
    "    def subtract(self,a):\n",
    "          self.result-=a\n",
    "            \n",
    "    def multiplied_by(self,a):\n",
    "          self.result*=a\n",
    "            \n",
    "    def divided_by(self,a):\n",
    "          self.result/=a\n",
    "    def ac(self):\n",
    "        self.result = 0"
   ]
  },
  {
   "cell_type": "code",
   "execution_count": 99,
   "id": "ec29057f",
   "metadata": {},
   "outputs": [],
   "source": [
    "calculater = Calculater()"
   ]
  },
  {
   "cell_type": "code",
   "execution_count": 96,
   "id": "20688cd1",
   "metadata": {},
   "outputs": [
    {
     "data": {
      "text/plain": [
       "7"
      ]
     },
     "execution_count": 96,
     "metadata": {},
     "output_type": "execute_result"
    }
   ],
   "source": [
    "calculater.result"
   ]
  },
  {
   "cell_type": "code",
   "execution_count": 95,
   "id": "cd0275d1",
   "metadata": {},
   "outputs": [],
   "source": [
    "calculater.add(3)"
   ]
  },
  {
   "cell_type": "code",
   "execution_count": 92,
   "id": "4efa61da",
   "metadata": {},
   "outputs": [],
   "source": [
    "calculater.subtract(5)"
   ]
  },
  {
   "cell_type": "code",
   "execution_count": 100,
   "id": "1e834879",
   "metadata": {},
   "outputs": [],
   "source": [
    "calculater.ac()"
   ]
  },
  {
   "cell_type": "code",
   "execution_count": 106,
   "id": "09f304d9",
   "metadata": {},
   "outputs": [],
   "source": [
    "def add(x,y):\n",
    "    \"\"\"\n",
    "    - 정수 혹은 숫자 자료형 xmy의 더한 값을 리턴합니다.\n",
    "    \"\"\"\n",
    "    return x+y"
   ]
  },
  {
   "cell_type": "code",
   "execution_count": 107,
   "id": "a9c8e4bf",
   "metadata": {
    "scrolled": true
   },
   "outputs": [
    {
     "name": "stdout",
     "output_type": "stream",
     "text": [
      "Help on function add in module __main__:\n",
      "\n",
      "add(x, y)\n",
      "    - 정수 혹은 숫자 자료형 xmy의 더한 값을 리턴합니다.\n",
      "\n"
     ]
    }
   ],
   "source": [
    "help(add)"
   ]
  },
  {
   "cell_type": "code",
   "execution_count": 110,
   "id": "95062007",
   "metadata": {},
   "outputs": [],
   "source": [
    "def add(x:int,y:int) -> int:\n",
    "    return x+y"
   ]
  },
  {
   "cell_type": "code",
   "execution_count": 111,
   "id": "7fca4bbd",
   "metadata": {},
   "outputs": [
    {
     "data": {
      "text/plain": [
       "{'x': int, 'y': int, 'return': int}"
      ]
     },
     "execution_count": 111,
     "metadata": {},
     "output_type": "execute_result"
    }
   ],
   "source": [
    "add.__annotations__"
   ]
  },
  {
   "cell_type": "code",
   "execution_count": 112,
   "id": "85b05edb",
   "metadata": {},
   "outputs": [
    {
     "data": {
      "text/plain": [
       "'12'"
      ]
     },
     "execution_count": 112,
     "metadata": {},
     "output_type": "execute_result"
    }
   ],
   "source": [
    "add('1','2')"
   ]
  },
  {
   "cell_type": "code",
   "execution_count": 113,
   "id": "db85f346",
   "metadata": {},
   "outputs": [],
   "source": [
    "import inspect"
   ]
  },
  {
   "cell_type": "code",
   "execution_count": 115,
   "id": "93a83622",
   "metadata": {},
   "outputs": [
    {
     "data": {
      "text/plain": [
       "FullArgSpec(args=['x', 'y'], varargs=None, varkw=None, defaults=None, kwonlyargs=[], kwonlydefaults=None, annotations={'return': <class 'int'>, 'x': <class 'int'>, 'y': <class 'int'>})"
      ]
     },
     "execution_count": 115,
     "metadata": {},
     "output_type": "execute_result"
    }
   ],
   "source": [
    "inspect.getfullargspec(add)"
   ]
  },
  {
   "cell_type": "markdown",
   "id": "f5c5a3c1",
   "metadata": {},
   "source": [
    "# 여러 parameter가 필요한 경우"
   ]
  },
  {
   "cell_type": "markdown",
   "id": "c6243f18",
   "metadata": {},
   "source": [
    "### 가변인자처리\n",
    "- 여러개의 인자를 하나로 묶어서 처리\n",
    "- 함수를 정의할 떄 가변인자가 들어가는 매개변수를 args라는 이름으로 지정하고 그 앞에 별을 붙여서 사용한다."
   ]
  },
  {
   "cell_type": "code",
   "execution_count": 116,
   "id": "67bb056c",
   "metadata": {},
   "outputs": [],
   "source": [
    "def sum_all(*args):\n",
    "    print(args)\n",
    "    return sum(args)"
   ]
  },
  {
   "cell_type": "code",
   "execution_count": 117,
   "id": "edf7ecd6",
   "metadata": {},
   "outputs": [
    {
     "name": "stdout",
     "output_type": "stream",
     "text": [
      "(1, 2, 3, 4, 5, 6, 7, 8)\n"
     ]
    },
    {
     "data": {
      "text/plain": [
       "36"
      ]
     },
     "execution_count": 117,
     "metadata": {},
     "output_type": "execute_result"
    }
   ],
   "source": [
    "sum_all(1,2,3,4,5,6,7,8)"
   ]
  },
  {
   "cell_type": "code",
   "execution_count": 118,
   "id": "f1e69fbd",
   "metadata": {},
   "outputs": [
    {
     "name": "stdout",
     "output_type": "stream",
     "text": [
      "(1, 2)\n"
     ]
    },
    {
     "data": {
      "text/plain": [
       "3"
      ]
     },
     "execution_count": 118,
     "metadata": {},
     "output_type": "execute_result"
    }
   ],
   "source": [
    "sum_all(1,2)"
   ]
  },
  {
   "cell_type": "code",
   "execution_count": 119,
   "id": "c09e6587",
   "metadata": {},
   "outputs": [],
   "source": [
    "i = [1,2,3,4]\n",
    "t = (1,2,3,4)"
   ]
  },
  {
   "cell_type": "code",
   "execution_count": 123,
   "id": "242d5bf1",
   "metadata": {},
   "outputs": [
    {
     "data": {
      "text/plain": [
       "(list, tuple)"
      ]
     },
     "execution_count": 123,
     "metadata": {},
     "output_type": "execute_result"
    }
   ],
   "source": [
    "type(i),type(t)"
   ]
  },
  {
   "cell_type": "markdown",
   "id": "6cbdcc3d",
   "metadata": {},
   "source": [
    "### 가변키워드인자\n",
    "- 이름과 값을 나열해서 지정할 수 있다.\n",
    "- 가변인자 다음에 가변키워드인자를 넣어서 사용해야함"
   ]
  },
  {
   "cell_type": "code",
   "execution_count": 124,
   "id": "766e8d11",
   "metadata": {},
   "outputs": [],
   "source": [
    "def kwargs_function(**kwargs):\n",
    "    print(kwargs)"
   ]
  },
  {
   "cell_type": "code",
   "execution_count": 128,
   "id": "c5821764",
   "metadata": {},
   "outputs": [
    {
     "name": "stdout",
     "output_type": "stream",
     "text": [
      "{'a': 1, 'b': '2', 'c': None}\n"
     ]
    }
   ],
   "source": [
    "kwargs_function(a =1,b='2',c=None)"
   ]
  },
  {
   "cell_type": "code",
   "execution_count": 129,
   "id": "aabf14bb",
   "metadata": {},
   "outputs": [],
   "source": [
    "def args_kwargs_function(*args,**kwargs):\n",
    "    print(args)\n",
    "    print(type(arhs))\n",
    "    \n",
    "    print(kwargs)\n",
    "    print(type(kwargs))"
   ]
  },
  {
   "cell_type": "code",
   "execution_count": 130,
   "id": "542f32f7",
   "metadata": {},
   "outputs": [
    {
     "ename": "SyntaxError",
     "evalue": "positional argument follows keyword argument (<ipython-input-130-e7b5d9dd150d>, line 1)",
     "output_type": "error",
     "traceback": [
      "\u001b[1;36m  File \u001b[1;32m\"<ipython-input-130-e7b5d9dd150d>\"\u001b[1;36m, line \u001b[1;32m1\u001b[0m\n\u001b[1;33m    args_kwargs_function(1,2,3,a='1',b='2',c=3,d=None,4,5)\u001b[0m\n\u001b[1;37m                                                      ^\u001b[0m\n\u001b[1;31mSyntaxError\u001b[0m\u001b[1;31m:\u001b[0m positional argument follows keyword argument\n"
     ]
    }
   ],
   "source": [
    "args_kwargs_function(1,2,3,a='1',b='2',c=3,d=None,4,5)"
   ]
  },
  {
   "cell_type": "code",
   "execution_count": 134,
   "id": "17b8d458",
   "metadata": {},
   "outputs": [],
   "source": [
    "def basic_parameter_args_kwargs_function(a,b,*args,**kwargs,):\n",
    "    print(args)\n",
    "    print(type(args))\n",
    "    \n",
    "    print(kwargs)\n",
    "    print(type(kwargs))\n",
    "    \n",
    "    print(a)\n",
    "    print(b)"
   ]
  },
  {
   "cell_type": "code",
   "execution_count": 135,
   "id": "731f56a9",
   "metadata": {},
   "outputs": [
    {
     "name": "stdout",
     "output_type": "stream",
     "text": [
      "(1, 2, 3, 4)\n",
      "<class 'tuple'>\n",
      "{'c': 30, 'd': 40}\n",
      "<class 'dict'>\n",
      "10\n",
      "20\n"
     ]
    }
   ],
   "source": [
    "basic_parameter_args_kwargs_function(10,20,1,2,3,4,c=30,d=40)"
   ]
  },
  {
   "cell_type": "markdown",
   "id": "d5442599",
   "metadata": {},
   "source": [
    "### *args 내가 원하는 구구단 단수만 입력받아서 출력하는 함수 제작"
   ]
  },
  {
   "cell_type": "code",
   "execution_count": 149,
   "id": "99649f57",
   "metadata": {},
   "outputs": [],
   "source": [
    "def gugudan(*args):\n",
    "    for num in args:\n",
    "        print(f'{num}단')\n",
    "        for num2 in range(1,10):\n",
    "            print(f'{num} X {num2} = {num*num2}')"
   ]
  },
  {
   "cell_type": "code",
   "execution_count": 150,
   "id": "0465bb0a",
   "metadata": {},
   "outputs": [
    {
     "name": "stdout",
     "output_type": "stream",
     "text": [
      "2단\n",
      "2 X 1 = 2\n",
      "2 X 2 = 4\n",
      "2 X 3 = 6\n",
      "2 X 4 = 8\n",
      "2 X 5 = 10\n",
      "2 X 6 = 12\n",
      "2 X 7 = 14\n",
      "2 X 8 = 16\n",
      "2 X 9 = 18\n"
     ]
    }
   ],
   "source": [
    "gugudan(2)"
   ]
  },
  {
   "cell_type": "code",
   "execution_count": 157,
   "id": "6ea5126e",
   "metadata": {},
   "outputs": [],
   "source": [
    "def gugudan(*args,**kwargs):\n",
    "    for num in args:\n",
    "        print(f'{num}단')\n",
    "        for num2 in range(1,10):\n",
    "            print(f'{num} X {num2} = {num*num2}')\n",
    "    \n",
    "    for kwarg in kwargs:\n",
    "        dan = kwargs[kwarg]\n",
    "        print(f'{dan}단')\n",
    "        for num2 in range(1,10):\n",
    "            print(f'{dan} X {num2} = {dan*num2}')"
   ]
  },
  {
   "cell_type": "code",
   "execution_count": 158,
   "id": "faa435be",
   "metadata": {},
   "outputs": [
    {
     "name": "stdout",
     "output_type": "stream",
     "text": [
      "2단\n",
      "2 X 1 = 2\n",
      "2 X 2 = 4\n",
      "2 X 3 = 6\n",
      "2 X 4 = 8\n",
      "2 X 5 = 10\n",
      "2 X 6 = 12\n",
      "2 X 7 = 14\n",
      "2 X 8 = 16\n",
      "2 X 9 = 18\n",
      "3단\n",
      "3 X 1 = 3\n",
      "3 X 2 = 6\n",
      "3 X 3 = 9\n",
      "3 X 4 = 12\n",
      "3 X 5 = 15\n",
      "3 X 6 = 18\n",
      "3 X 7 = 21\n",
      "3 X 8 = 24\n",
      "3 X 9 = 27\n",
      "7단\n",
      "7 X 1 = 7\n",
      "7 X 2 = 14\n",
      "7 X 3 = 21\n",
      "7 X 4 = 28\n",
      "7 X 5 = 35\n",
      "7 X 6 = 42\n",
      "7 X 7 = 49\n",
      "7 X 8 = 56\n",
      "7 X 9 = 63\n",
      "9단\n",
      "9 X 1 = 9\n",
      "9 X 2 = 18\n",
      "9 X 3 = 27\n",
      "9 X 4 = 36\n",
      "9 X 5 = 45\n",
      "9 X 6 = 54\n",
      "9 X 7 = 63\n",
      "9 X 8 = 72\n",
      "9 X 9 = 81\n"
     ]
    }
   ],
   "source": [
    "gugudan(2,3,seven=7,nine=9)"
   ]
  },
  {
   "cell_type": "markdown",
   "id": "9effd48a",
   "metadata": {},
   "source": [
    "## 함수 내에 함수 정의 : 로컬 함수\n",
    "- 각 함수 정의별로 그 안에 지역변수가 만들어지므로 (locals()) 해당 이름칸도 같이 만들어집니다.\n",
    "- 함수 내부의 로직들을 하나의 블럭인 함수로 지정해서 재사용 용도로 구성할 수 있음."
   ]
  },
  {
   "cell_type": "code",
   "execution_count": 165,
   "id": "e5b83354",
   "metadata": {},
   "outputs": [],
   "source": [
    "def outer(a):\n",
    "    \n",
    "    def inner(b):\n",
    "        b+=2\n",
    "        print(f'inner 함수 {locals()}')\n",
    "        return b\n",
    "    a += 1\n",
    "    print(f'outer 함수 {locals()}')\n",
    "\n",
    "\n",
    "    for data in range(1,3):\n",
    "        inner(a)\n",
    "    "
   ]
  },
  {
   "cell_type": "code",
   "execution_count": 166,
   "id": "8da7239d",
   "metadata": {},
   "outputs": [
    {
     "name": "stdout",
     "output_type": "stream",
     "text": [
      "outer 함수 {'a': 101, 'inner': <function outer.<locals>.inner at 0x000001DFC9CBD3A0>}\n",
      "inner 함수 {'b': 103}\n",
      "inner 함수 {'b': 103}\n"
     ]
    }
   ],
   "source": [
    "outer(100)"
   ]
  },
  {
   "cell_type": "code",
   "execution_count": null,
   "id": "3e2b6dbb",
   "metadata": {},
   "outputs": [],
   "source": []
  }
 ],
 "metadata": {
  "kernelspec": {
   "display_name": "Python 3",
   "language": "python",
   "name": "python3"
  },
  "language_info": {
   "codemirror_mode": {
    "name": "ipython",
    "version": 3
   },
   "file_extension": ".py",
   "mimetype": "text/x-python",
   "name": "python",
   "nbconvert_exporter": "python",
   "pygments_lexer": "ipython3",
   "version": "3.8.8"
  }
 },
 "nbformat": 4,
 "nbformat_minor": 5
}
